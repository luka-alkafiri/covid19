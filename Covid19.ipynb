{
    "metadata": {
        "kernelspec": {
            "name": "SQL",
            "display_name": "SQL",
            "language": "sql"
        },
        "language_info": {
            "name": "sql",
            "version": ""
        }
    },
    "nbformat_minor": 2,
    "nbformat": 4,
    "cells": [
        {
            "cell_type": "markdown",
            "source": [
                "# **Covid Data Exploration**\n",
                "\n",
                "**Skills used: Joins, CTE's, Aggregate Function**"
            ],
            "metadata": {
                "azdata_cell_guid": "7b5f722b-5cf8-4476-8d59-9a2fe217f264"
            }
        },
        {
            "cell_type": "code",
            "source": [
                "SELECT TOP 10 *\n",
                "FROM portfolio.dbo.CovidDeaths\n",
                "WHERE continent is not NULL\n",
                "ORDER BY location, date"
            ],
            "metadata": {
                "azdata_cell_guid": "69aa6ece-5880-4a62-8cdf-301870cd4330"
            },
            "outputs": [
                {
                    "output_type": "display_data",
                    "data": {
                        "text/html": "(10 rows affected)"
                    },
                    "metadata": {}
                },
                {
                    "output_type": "display_data",
                    "data": {
                        "text/html": "Total execution time: 00:00:01.836"
                    },
                    "metadata": {}
                },
                {
                    "output_type": "execute_result",
                    "metadata": {},
                    "execution_count": 4,
                    "data": {
                        "application/vnd.dataresource+json": {
                            "schema": {
                                "fields": [
                                    {
                                        "name": "iso_code"
                                    },
                                    {
                                        "name": "continent"
                                    },
                                    {
                                        "name": "location"
                                    },
                                    {
                                        "name": "date"
                                    },
                                    {
                                        "name": "population"
                                    },
                                    {
                                        "name": "total_cases"
                                    },
                                    {
                                        "name": "new_cases"
                                    },
                                    {
                                        "name": "new_cases_smoothed"
                                    },
                                    {
                                        "name": "total_deaths"
                                    },
                                    {
                                        "name": "new_deaths"
                                    },
                                    {
                                        "name": "new_deaths_smoothed"
                                    },
                                    {
                                        "name": "total_cases_per_million"
                                    },
                                    {
                                        "name": "new_cases_per_million"
                                    },
                                    {
                                        "name": "new_cases_smoothed_per_million"
                                    },
                                    {
                                        "name": "total_deaths_per_million"
                                    },
                                    {
                                        "name": "new_deaths_per_million"
                                    },
                                    {
                                        "name": "new_deaths_smoothed_per_million"
                                    },
                                    {
                                        "name": "reproduction_rate"
                                    },
                                    {
                                        "name": "icu_patients"
                                    },
                                    {
                                        "name": "icu_patients_per_million"
                                    },
                                    {
                                        "name": "hosp_patients"
                                    },
                                    {
                                        "name": "hosp_patients_per_million"
                                    },
                                    {
                                        "name": "weekly_icu_admissions"
                                    },
                                    {
                                        "name": "weekly_icu_admissions_per_million"
                                    },
                                    {
                                        "name": "weekly_hosp_admissions"
                                    },
                                    {
                                        "name": "weekly_hosp_admissions_per_million"
                                    }
                                ]
                            },
                            "data": [
                                {
                                    "0": "AFG",
                                    "1": "Asia",
                                    "2": "Afghanistan",
                                    "3": "2020-02-24",
                                    "4": "38928341",
                                    "5": "1",
                                    "6": "1",
                                    "7": "NULL",
                                    "8": "NULL",
                                    "9": "NULL",
                                    "10": "NULL",
                                    "11": "0.026",
                                    "12": "0.026",
                                    "13": "NULL",
                                    "14": "NULL",
                                    "15": "NULL",
                                    "16": "NULL",
                                    "17": "NULL",
                                    "18": "NULL",
                                    "19": "NULL",
                                    "20": "NULL",
                                    "21": "NULL",
                                    "22": "NULL",
                                    "23": "NULL",
                                    "24": "NULL",
                                    "25": "NULL"
                                },
                                {
                                    "0": "AFG",
                                    "1": "Asia",
                                    "2": "Afghanistan",
                                    "3": "2020-02-25",
                                    "4": "38928341",
                                    "5": "1",
                                    "6": "0",
                                    "7": "NULL",
                                    "8": "NULL",
                                    "9": "NULL",
                                    "10": "NULL",
                                    "11": "0.026",
                                    "12": "0",
                                    "13": "NULL",
                                    "14": "NULL",
                                    "15": "NULL",
                                    "16": "NULL",
                                    "17": "NULL",
                                    "18": "NULL",
                                    "19": "NULL",
                                    "20": "NULL",
                                    "21": "NULL",
                                    "22": "NULL",
                                    "23": "NULL",
                                    "24": "NULL",
                                    "25": "NULL"
                                },
                                {
                                    "0": "AFG",
                                    "1": "Asia",
                                    "2": "Afghanistan",
                                    "3": "2020-02-26",
                                    "4": "38928341",
                                    "5": "1",
                                    "6": "0",
                                    "7": "NULL",
                                    "8": "NULL",
                                    "9": "NULL",
                                    "10": "NULL",
                                    "11": "0.026",
                                    "12": "0",
                                    "13": "NULL",
                                    "14": "NULL",
                                    "15": "NULL",
                                    "16": "NULL",
                                    "17": "NULL",
                                    "18": "NULL",
                                    "19": "NULL",
                                    "20": "NULL",
                                    "21": "NULL",
                                    "22": "NULL",
                                    "23": "NULL",
                                    "24": "NULL",
                                    "25": "NULL"
                                },
                                {
                                    "0": "AFG",
                                    "1": "Asia",
                                    "2": "Afghanistan",
                                    "3": "2020-02-27",
                                    "4": "38928341",
                                    "5": "1",
                                    "6": "0",
                                    "7": "NULL",
                                    "8": "NULL",
                                    "9": "NULL",
                                    "10": "NULL",
                                    "11": "0.026",
                                    "12": "0",
                                    "13": "NULL",
                                    "14": "NULL",
                                    "15": "NULL",
                                    "16": "NULL",
                                    "17": "NULL",
                                    "18": "NULL",
                                    "19": "NULL",
                                    "20": "NULL",
                                    "21": "NULL",
                                    "22": "NULL",
                                    "23": "NULL",
                                    "24": "NULL",
                                    "25": "NULL"
                                },
                                {
                                    "0": "AFG",
                                    "1": "Asia",
                                    "2": "Afghanistan",
                                    "3": "2020-02-28",
                                    "4": "38928341",
                                    "5": "1",
                                    "6": "0",
                                    "7": "NULL",
                                    "8": "NULL",
                                    "9": "NULL",
                                    "10": "NULL",
                                    "11": "0.026",
                                    "12": "0",
                                    "13": "NULL",
                                    "14": "NULL",
                                    "15": "NULL",
                                    "16": "NULL",
                                    "17": "NULL",
                                    "18": "NULL",
                                    "19": "NULL",
                                    "20": "NULL",
                                    "21": "NULL",
                                    "22": "NULL",
                                    "23": "NULL",
                                    "24": "NULL",
                                    "25": "NULL"
                                },
                                {
                                    "0": "AFG",
                                    "1": "Asia",
                                    "2": "Afghanistan",
                                    "3": "2020-02-29",
                                    "4": "38928341",
                                    "5": "1",
                                    "6": "0",
                                    "7": "0.143",
                                    "8": "NULL",
                                    "9": "NULL",
                                    "10": "0",
                                    "11": "0.026",
                                    "12": "0",
                                    "13": "0.004",
                                    "14": "NULL",
                                    "15": "NULL",
                                    "16": "0",
                                    "17": "NULL",
                                    "18": "NULL",
                                    "19": "NULL",
                                    "20": "NULL",
                                    "21": "NULL",
                                    "22": "NULL",
                                    "23": "NULL",
                                    "24": "NULL",
                                    "25": "NULL"
                                },
                                {
                                    "0": "AFG",
                                    "1": "Asia",
                                    "2": "Afghanistan",
                                    "3": "2020-03-01",
                                    "4": "38928341",
                                    "5": "1",
                                    "6": "0",
                                    "7": "0.143",
                                    "8": "NULL",
                                    "9": "NULL",
                                    "10": "0",
                                    "11": "0.026",
                                    "12": "0",
                                    "13": "0.004",
                                    "14": "NULL",
                                    "15": "NULL",
                                    "16": "0",
                                    "17": "NULL",
                                    "18": "NULL",
                                    "19": "NULL",
                                    "20": "NULL",
                                    "21": "NULL",
                                    "22": "NULL",
                                    "23": "NULL",
                                    "24": "NULL",
                                    "25": "NULL"
                                },
                                {
                                    "0": "AFG",
                                    "1": "Asia",
                                    "2": "Afghanistan",
                                    "3": "2020-03-02",
                                    "4": "38928341",
                                    "5": "1",
                                    "6": "0",
                                    "7": "0",
                                    "8": "NULL",
                                    "9": "NULL",
                                    "10": "0",
                                    "11": "0.026",
                                    "12": "0",
                                    "13": "0",
                                    "14": "NULL",
                                    "15": "NULL",
                                    "16": "0",
                                    "17": "NULL",
                                    "18": "NULL",
                                    "19": "NULL",
                                    "20": "NULL",
                                    "21": "NULL",
                                    "22": "NULL",
                                    "23": "NULL",
                                    "24": "NULL",
                                    "25": "NULL"
                                },
                                {
                                    "0": "AFG",
                                    "1": "Asia",
                                    "2": "Afghanistan",
                                    "3": "2020-03-03",
                                    "4": "38928341",
                                    "5": "2",
                                    "6": "1",
                                    "7": "0.143",
                                    "8": "NULL",
                                    "9": "NULL",
                                    "10": "0",
                                    "11": "0.051",
                                    "12": "0.026",
                                    "13": "0.004",
                                    "14": "NULL",
                                    "15": "NULL",
                                    "16": "0",
                                    "17": "NULL",
                                    "18": "NULL",
                                    "19": "NULL",
                                    "20": "NULL",
                                    "21": "NULL",
                                    "22": "NULL",
                                    "23": "NULL",
                                    "24": "NULL",
                                    "25": "NULL"
                                },
                                {
                                    "0": "AFG",
                                    "1": "Asia",
                                    "2": "Afghanistan",
                                    "3": "2020-03-04",
                                    "4": "38928341",
                                    "5": "4",
                                    "6": "2",
                                    "7": "0.429",
                                    "8": "NULL",
                                    "9": "NULL",
                                    "10": "0",
                                    "11": "0.103",
                                    "12": "0.051",
                                    "13": "0.011",
                                    "14": "NULL",
                                    "15": "NULL",
                                    "16": "0",
                                    "17": "NULL",
                                    "18": "NULL",
                                    "19": "NULL",
                                    "20": "NULL",
                                    "21": "NULL",
                                    "22": "NULL",
                                    "23": "NULL",
                                    "24": "NULL",
                                    "25": "NULL"
                                }
                            ]
                        },
                        "text/html": [
                            "<table>",
                            "<tr><th>iso_code</th><th>continent</th><th>location</th><th>date</th><th>population</th><th>total_cases</th><th>new_cases</th><th>new_cases_smoothed</th><th>total_deaths</th><th>new_deaths</th><th>new_deaths_smoothed</th><th>total_cases_per_million</th><th>new_cases_per_million</th><th>new_cases_smoothed_per_million</th><th>total_deaths_per_million</th><th>new_deaths_per_million</th><th>new_deaths_smoothed_per_million</th><th>reproduction_rate</th><th>icu_patients</th><th>icu_patients_per_million</th><th>hosp_patients</th><th>hosp_patients_per_million</th><th>weekly_icu_admissions</th><th>weekly_icu_admissions_per_million</th><th>weekly_hosp_admissions</th><th>weekly_hosp_admissions_per_million</th></tr>",
                            "<tr><td>AFG</td><td>Asia</td><td>Afghanistan</td><td>2020-02-24</td><td>38928341</td><td>1</td><td>1</td><td>NULL</td><td>NULL</td><td>NULL</td><td>NULL</td><td>0.026</td><td>0.026</td><td>NULL</td><td>NULL</td><td>NULL</td><td>NULL</td><td>NULL</td><td>NULL</td><td>NULL</td><td>NULL</td><td>NULL</td><td>NULL</td><td>NULL</td><td>NULL</td><td>NULL</td></tr>",
                            "<tr><td>AFG</td><td>Asia</td><td>Afghanistan</td><td>2020-02-25</td><td>38928341</td><td>1</td><td>0</td><td>NULL</td><td>NULL</td><td>NULL</td><td>NULL</td><td>0.026</td><td>0</td><td>NULL</td><td>NULL</td><td>NULL</td><td>NULL</td><td>NULL</td><td>NULL</td><td>NULL</td><td>NULL</td><td>NULL</td><td>NULL</td><td>NULL</td><td>NULL</td><td>NULL</td></tr>",
                            "<tr><td>AFG</td><td>Asia</td><td>Afghanistan</td><td>2020-02-26</td><td>38928341</td><td>1</td><td>0</td><td>NULL</td><td>NULL</td><td>NULL</td><td>NULL</td><td>0.026</td><td>0</td><td>NULL</td><td>NULL</td><td>NULL</td><td>NULL</td><td>NULL</td><td>NULL</td><td>NULL</td><td>NULL</td><td>NULL</td><td>NULL</td><td>NULL</td><td>NULL</td><td>NULL</td></tr>",
                            "<tr><td>AFG</td><td>Asia</td><td>Afghanistan</td><td>2020-02-27</td><td>38928341</td><td>1</td><td>0</td><td>NULL</td><td>NULL</td><td>NULL</td><td>NULL</td><td>0.026</td><td>0</td><td>NULL</td><td>NULL</td><td>NULL</td><td>NULL</td><td>NULL</td><td>NULL</td><td>NULL</td><td>NULL</td><td>NULL</td><td>NULL</td><td>NULL</td><td>NULL</td><td>NULL</td></tr>",
                            "<tr><td>AFG</td><td>Asia</td><td>Afghanistan</td><td>2020-02-28</td><td>38928341</td><td>1</td><td>0</td><td>NULL</td><td>NULL</td><td>NULL</td><td>NULL</td><td>0.026</td><td>0</td><td>NULL</td><td>NULL</td><td>NULL</td><td>NULL</td><td>NULL</td><td>NULL</td><td>NULL</td><td>NULL</td><td>NULL</td><td>NULL</td><td>NULL</td><td>NULL</td><td>NULL</td></tr>",
                            "<tr><td>AFG</td><td>Asia</td><td>Afghanistan</td><td>2020-02-29</td><td>38928341</td><td>1</td><td>0</td><td>0.143</td><td>NULL</td><td>NULL</td><td>0</td><td>0.026</td><td>0</td><td>0.004</td><td>NULL</td><td>NULL</td><td>0</td><td>NULL</td><td>NULL</td><td>NULL</td><td>NULL</td><td>NULL</td><td>NULL</td><td>NULL</td><td>NULL</td><td>NULL</td></tr>",
                            "<tr><td>AFG</td><td>Asia</td><td>Afghanistan</td><td>2020-03-01</td><td>38928341</td><td>1</td><td>0</td><td>0.143</td><td>NULL</td><td>NULL</td><td>0</td><td>0.026</td><td>0</td><td>0.004</td><td>NULL</td><td>NULL</td><td>0</td><td>NULL</td><td>NULL</td><td>NULL</td><td>NULL</td><td>NULL</td><td>NULL</td><td>NULL</td><td>NULL</td><td>NULL</td></tr>",
                            "<tr><td>AFG</td><td>Asia</td><td>Afghanistan</td><td>2020-03-02</td><td>38928341</td><td>1</td><td>0</td><td>0</td><td>NULL</td><td>NULL</td><td>0</td><td>0.026</td><td>0</td><td>0</td><td>NULL</td><td>NULL</td><td>0</td><td>NULL</td><td>NULL</td><td>NULL</td><td>NULL</td><td>NULL</td><td>NULL</td><td>NULL</td><td>NULL</td><td>NULL</td></tr>",
                            "<tr><td>AFG</td><td>Asia</td><td>Afghanistan</td><td>2020-03-03</td><td>38928341</td><td>2</td><td>1</td><td>0.143</td><td>NULL</td><td>NULL</td><td>0</td><td>0.051</td><td>0.026</td><td>0.004</td><td>NULL</td><td>NULL</td><td>0</td><td>NULL</td><td>NULL</td><td>NULL</td><td>NULL</td><td>NULL</td><td>NULL</td><td>NULL</td><td>NULL</td><td>NULL</td></tr>",
                            "<tr><td>AFG</td><td>Asia</td><td>Afghanistan</td><td>2020-03-04</td><td>38928341</td><td>4</td><td>2</td><td>0.429</td><td>NULL</td><td>NULL</td><td>0</td><td>0.103</td><td>0.051</td><td>0.011</td><td>NULL</td><td>NULL</td><td>0</td><td>NULL</td><td>NULL</td><td>NULL</td><td>NULL</td><td>NULL</td><td>NULL</td><td>NULL</td><td>NULL</td><td>NULL</td></tr>",
                            "</table>"
                        ]
                    }
                }
            ],
            "execution_count": 4
        },
        {
            "cell_type": "markdown",
            "source": [
                "**Total deaths per country**"
            ],
            "metadata": {
                "azdata_cell_guid": "8fd9d84f-1a93-4799-96c9-252e8270f526"
            }
        },
        {
            "cell_type": "code",
            "source": [
                "SELECT TOP 10\n",
                "    location, \n",
                "    MAX(total_deaths) AS TotalDeathCount\n",
                "FROM portfolio.dbo.CovidDeaths\n",
                "WHERE continent IS NOT NULL \n",
                "GROUP BY Location\n",
                "ORDER BY TotalDeathCount DESC"
            ],
            "metadata": {
                "azdata_cell_guid": "62ef3c77-062b-4284-8410-e619eb1f0987"
            },
            "outputs": [
                {
                    "output_type": "display_data",
                    "data": {
                        "text/html": "Warning: Null value is eliminated by an aggregate or other SET operation."
                    },
                    "metadata": {}
                },
                {
                    "output_type": "display_data",
                    "data": {
                        "text/html": "(10 rows affected)"
                    },
                    "metadata": {}
                },
                {
                    "output_type": "display_data",
                    "data": {
                        "text/html": "Total execution time: 00:00:01.687"
                    },
                    "metadata": {}
                },
                {
                    "output_type": "execute_result",
                    "metadata": {},
                    "execution_count": 5,
                    "data": {
                        "application/vnd.dataresource+json": {
                            "schema": {
                                "fields": [
                                    {
                                        "name": "location"
                                    },
                                    {
                                        "name": "TotalDeathCount"
                                    }
                                ]
                            },
                            "data": [
                                {
                                    "0": "United States",
                                    "1": "605524"
                                },
                                {
                                    "0": "Brazil",
                                    "1": "521952"
                                },
                                {
                                    "0": "India",
                                    "1": "401050"
                                },
                                {
                                    "0": "Mexico",
                                    "1": "233428"
                                },
                                {
                                    "0": "Peru",
                                    "1": "192687"
                                },
                                {
                                    "0": "Russia",
                                    "1": "134302"
                                },
                                {
                                    "0": "United Kingdom",
                                    "1": "128453"
                                },
                                {
                                    "0": "Italy",
                                    "1": "127615"
                                },
                                {
                                    "0": "France",
                                    "1": "111297"
                                },
                                {
                                    "0": "Colombia",
                                    "1": "107723"
                                }
                            ]
                        },
                        "text/html": [
                            "<table>",
                            "<tr><th>location</th><th>TotalDeathCount</th></tr>",
                            "<tr><td>United States</td><td>605524</td></tr>",
                            "<tr><td>Brazil</td><td>521952</td></tr>",
                            "<tr><td>India</td><td>401050</td></tr>",
                            "<tr><td>Mexico</td><td>233428</td></tr>",
                            "<tr><td>Peru</td><td>192687</td></tr>",
                            "<tr><td>Russia</td><td>134302</td></tr>",
                            "<tr><td>United Kingdom</td><td>128453</td></tr>",
                            "<tr><td>Italy</td><td>127615</td></tr>",
                            "<tr><td>France</td><td>111297</td></tr>",
                            "<tr><td>Colombia</td><td>107723</td></tr>",
                            "</table>"
                        ]
                    }
                }
            ],
            "execution_count": 5
        },
        {
            "cell_type": "markdown",
            "source": [
                "**Total Cases vs Total Deaths per Country**"
            ],
            "metadata": {
                "azdata_cell_guid": "9dfd6675-46fe-4246-b2e7-134cef99a2c8"
            }
        },
        {
            "cell_type": "code",
            "source": [
                "SELECT TOP 10\n",
                "    Location, \n",
                "    MAX(total_cases) AS total_cases,\n",
                "    MAX(total_deaths) AS total_deaths, \n",
                "    (MAX(total_deaths)/MAX(total_cases))*100 AS DeathPercentage\n",
                "FROM portfolio.dbo.CovidDeaths\n",
                "WHERE continent IS NOT NULL AND total_deaths IS NOT NULL\n",
                "GROUP BY location\n",
                "ORDER BY DeathPercentage DESC"
            ],
            "metadata": {
                "azdata_cell_guid": "940cec31-5765-4a3e-9e2d-6663c5df018d"
            },
            "outputs": [
                {
                    "output_type": "display_data",
                    "data": {
                        "text/html": "Warning: Null value is eliminated by an aggregate or other SET operation."
                    },
                    "metadata": {}
                },
                {
                    "output_type": "display_data",
                    "data": {
                        "text/html": "(10 rows affected)"
                    },
                    "metadata": {}
                },
                {
                    "output_type": "display_data",
                    "data": {
                        "text/html": "Total execution time: 00:00:01.732"
                    },
                    "metadata": {}
                },
                {
                    "output_type": "execute_result",
                    "metadata": {},
                    "execution_count": 6,
                    "data": {
                        "application/vnd.dataresource+json": {
                            "schema": {
                                "fields": [
                                    {
                                        "name": "Location"
                                    },
                                    {
                                        "name": "total_cases"
                                    },
                                    {
                                        "name": "total_deaths"
                                    },
                                    {
                                        "name": "DeathPercentage"
                                    }
                                ]
                            },
                            "data": [
                                {
                                    "0": "Vanuatu",
                                    "1": "4",
                                    "2": "1",
                                    "3": "25"
                                },
                                {
                                    "0": "Yemen",
                                    "1": "6924",
                                    "2": "1361",
                                    "3": "19.65626805314847"
                                },
                                {
                                    "0": "Peru",
                                    "1": "2057554",
                                    "2": "192687",
                                    "3": "9.36485749584215"
                                },
                                {
                                    "0": "Mexico",
                                    "1": "2531192",
                                    "2": "233428",
                                    "3": "9.222058223951404"
                                },
                                {
                                    "0": "Sudan",
                                    "1": "36658",
                                    "2": "2760",
                                    "3": "7.529052321457799"
                                },
                                {
                                    "0": "Syria",
                                    "1": "25586",
                                    "2": "1882",
                                    "3": "7.355585085593684"
                                },
                                {
                                    "0": "Egypt",
                                    "1": "281722",
                                    "2": "16215",
                                    "3": "5.755674033266837"
                                },
                                {
                                    "0": "Somalia",
                                    "1": "14946",
                                    "2": "775",
                                    "3": "5.185333868593603"
                                },
                                {
                                    "0": "China",
                                    "1": "91887",
                                    "2": "4636",
                                    "3": "5.045327413018164"
                                },
                                {
                                    "0": "Bosnia and Herzegovina",
                                    "1": "205047",
                                    "2": "9667",
                                    "3": "4.714528864114081"
                                }
                            ]
                        },
                        "text/html": [
                            "<table>",
                            "<tr><th>Location</th><th>total_cases</th><th>total_deaths</th><th>DeathPercentage</th></tr>",
                            "<tr><td>Vanuatu</td><td>4</td><td>1</td><td>25</td></tr>",
                            "<tr><td>Yemen</td><td>6924</td><td>1361</td><td>19.65626805314847</td></tr>",
                            "<tr><td>Peru</td><td>2057554</td><td>192687</td><td>9.36485749584215</td></tr>",
                            "<tr><td>Mexico</td><td>2531192</td><td>233428</td><td>9.222058223951404</td></tr>",
                            "<tr><td>Sudan</td><td>36658</td><td>2760</td><td>7.529052321457799</td></tr>",
                            "<tr><td>Syria</td><td>25586</td><td>1882</td><td>7.355585085593684</td></tr>",
                            "<tr><td>Egypt</td><td>281722</td><td>16215</td><td>5.755674033266837</td></tr>",
                            "<tr><td>Somalia</td><td>14946</td><td>775</td><td>5.185333868593603</td></tr>",
                            "<tr><td>China</td><td>91887</td><td>4636</td><td>5.045327413018164</td></tr>",
                            "<tr><td>Bosnia and Herzegovina</td><td>205047</td><td>9667</td><td>4.714528864114081</td></tr>",
                            "</table>"
                        ]
                    }
                }
            ],
            "execution_count": 6
        },
        {
            "cell_type": "markdown",
            "source": [
                "**Countries with Highest Infection Rate compared to Population**"
            ],
            "metadata": {
                "azdata_cell_guid": "32e80c6f-008c-4e8b-9643-203431116db7"
            }
        },
        {
            "cell_type": "code",
            "source": [
                "SELECT TOP 10\n",
                "    Location, \n",
                "    MAX(total_cases) AS total_cases,\n",
                "    population, \n",
                "    (MAX(total_cases)/population)*100 AS PercentPopulationInfected\n",
                "FROM portfolio.dbo.CovidDeaths\n",
                "WHERE continent IS NOT NULL AND total_deaths IS NOT NULL\n",
                "GROUP BY location, population\n",
                "ORDER BY PercentPopulationInfected DESC"
            ],
            "metadata": {
                "azdata_cell_guid": "93fc92a5-7a90-4a57-b983-c6c9827258c3"
            },
            "outputs": [
                {
                    "output_type": "display_data",
                    "data": {
                        "text/html": "Warning: Null value is eliminated by an aggregate or other SET operation."
                    },
                    "metadata": {}
                },
                {
                    "output_type": "display_data",
                    "data": {
                        "text/html": "(10 rows affected)"
                    },
                    "metadata": {}
                },
                {
                    "output_type": "display_data",
                    "data": {
                        "text/html": "Total execution time: 00:00:01.584"
                    },
                    "metadata": {}
                },
                {
                    "output_type": "execute_result",
                    "metadata": {},
                    "execution_count": 7,
                    "data": {
                        "application/vnd.dataresource+json": {
                            "schema": {
                                "fields": [
                                    {
                                        "name": "Location"
                                    },
                                    {
                                        "name": "total_cases"
                                    },
                                    {
                                        "name": "population"
                                    },
                                    {
                                        "name": "PercentPopulationInfected"
                                    }
                                ]
                            },
                            "data": [
                                {
                                    "0": "Andorra",
                                    "1": "13918",
                                    "2": "77265",
                                    "3": "18.01333074483919"
                                },
                                {
                                    "0": "Seychelles",
                                    "1": "15857",
                                    "2": "98340",
                                    "3": "16.12466951393126"
                                },
                                {
                                    "0": "Montenegro",
                                    "1": "100292",
                                    "2": "628062",
                                    "3": "15.968487187570654"
                                },
                                {
                                    "0": "Bahrain",
                                    "1": "266140",
                                    "2": "1701583",
                                    "3": "15.64072983803905"
                                },
                                {
                                    "0": "Czechia",
                                    "1": "1667608",
                                    "2": "10708982",
                                    "3": "15.572049705564917"
                                },
                                {
                                    "0": "San Marino",
                                    "1": "5091",
                                    "2": "33938",
                                    "3": "15.00088396487713"
                                },
                                {
                                    "0": "Maldives",
                                    "1": "74074",
                                    "2": "540542",
                                    "3": "13.703653000136901"
                                },
                                {
                                    "0": "Slovenia",
                                    "1": "257383",
                                    "2": "2078932",
                                    "3": "12.38053962322962"
                                },
                                {
                                    "0": "Luxembourg",
                                    "1": "71031",
                                    "2": "625976",
                                    "3": "11.3472401497821"
                                },
                                {
                                    "0": "Sweden",
                                    "1": "1090880",
                                    "2": "10099270",
                                    "3": "10.801572786944007"
                                }
                            ]
                        },
                        "text/html": [
                            "<table>",
                            "<tr><th>Location</th><th>total_cases</th><th>population</th><th>PercentPopulationInfected</th></tr>",
                            "<tr><td>Andorra</td><td>13918</td><td>77265</td><td>18.01333074483919</td></tr>",
                            "<tr><td>Seychelles</td><td>15857</td><td>98340</td><td>16.12466951393126</td></tr>",
                            "<tr><td>Montenegro</td><td>100292</td><td>628062</td><td>15.968487187570654</td></tr>",
                            "<tr><td>Bahrain</td><td>266140</td><td>1701583</td><td>15.64072983803905</td></tr>",
                            "<tr><td>Czechia</td><td>1667608</td><td>10708982</td><td>15.572049705564917</td></tr>",
                            "<tr><td>San Marino</td><td>5091</td><td>33938</td><td>15.00088396487713</td></tr>",
                            "<tr><td>Maldives</td><td>74074</td><td>540542</td><td>13.703653000136901</td></tr>",
                            "<tr><td>Slovenia</td><td>257383</td><td>2078932</td><td>12.38053962322962</td></tr>",
                            "<tr><td>Luxembourg</td><td>71031</td><td>625976</td><td>11.3472401497821</td></tr>",
                            "<tr><td>Sweden</td><td>1090880</td><td>10099270</td><td>10.801572786944007</td></tr>",
                            "</table>"
                        ]
                    }
                }
            ],
            "execution_count": 7
        },
        {
            "cell_type": "markdown",
            "source": [
                "**Countries with Highest Death Count per Population**"
            ],
            "metadata": {
                "azdata_cell_guid": "236e0def-254d-4f2b-bcbf-c7ada1f797ef"
            }
        },
        {
            "cell_type": "code",
            "source": [
                "SELECT TOP 10\n",
                "    Location, \n",
                "    MAX(total_deaths) AS total_deaths,\n",
                "    population, \n",
                "    (MAX(total_deaths)/population)*100 AS TotalDeathCount\n",
                "FROM portfolio.dbo.CovidDeaths\n",
                "WHERE continent IS NOT NULL AND total_deaths IS NOT NULL\n",
                "GROUP BY location, population\n",
                "ORDER BY TotalDeathCount DESC"
            ],
            "metadata": {
                "azdata_cell_guid": "aad9464c-844e-4019-a00e-ec3021b39d2f"
            },
            "outputs": [
                {
                    "output_type": "display_data",
                    "data": {
                        "text/html": "(10 rows affected)"
                    },
                    "metadata": {}
                },
                {
                    "output_type": "display_data",
                    "data": {
                        "text/html": "Total execution time: 00:00:01.578"
                    },
                    "metadata": {}
                },
                {
                    "output_type": "execute_result",
                    "metadata": {},
                    "execution_count": 8,
                    "data": {
                        "application/vnd.dataresource+json": {
                            "schema": {
                                "fields": [
                                    {
                                        "name": "Location"
                                    },
                                    {
                                        "name": "total_deaths"
                                    },
                                    {
                                        "name": "population"
                                    },
                                    {
                                        "name": "TotalDeathCount"
                                    }
                                ]
                            },
                            "data": [
                                {
                                    "0": "Peru",
                                    "1": "192687",
                                    "2": "32971846",
                                    "3": "0.5843985805344353"
                                },
                                {
                                    "0": "Hungary",
                                    "1": "29992",
                                    "2": "9660350",
                                    "3": "0.31046494174641703"
                                },
                                {
                                    "0": "Bosnia and Herzegovina",
                                    "1": "9667",
                                    "2": "3280815",
                                    "3": "0.2946523958223795"
                                },
                                {
                                    "0": "Czechia",
                                    "1": "30308",
                                    "2": "10708982",
                                    "3": "0.283014762747757"
                                },
                                {
                                    "0": "San Marino",
                                    "1": "90",
                                    "2": "33938",
                                    "3": "0.26518946313866465"
                                },
                                {
                                    "0": "North Macedonia",
                                    "1": "5486",
                                    "2": "2083380",
                                    "3": "0.2633221015849245"
                                },
                                {
                                    "0": "Bulgaria",
                                    "1": "18083",
                                    "2": "6948445",
                                    "3": "0.2602452779003072"
                                },
                                {
                                    "0": "Montenegro",
                                    "1": "1613",
                                    "2": "628062",
                                    "3": "0.2568217787415892"
                                },
                                {
                                    "0": "Brazil",
                                    "1": "521952",
                                    "2": "212559409",
                                    "3": "0.24555582011427216"
                                },
                                {
                                    "0": "Slovakia",
                                    "1": "12511",
                                    "2": "5459643",
                                    "3": "0.2291541772969405"
                                }
                            ]
                        },
                        "text/html": [
                            "<table>",
                            "<tr><th>Location</th><th>total_deaths</th><th>population</th><th>TotalDeathCount</th></tr>",
                            "<tr><td>Peru</td><td>192687</td><td>32971846</td><td>0.5843985805344353</td></tr>",
                            "<tr><td>Hungary</td><td>29992</td><td>9660350</td><td>0.31046494174641703</td></tr>",
                            "<tr><td>Bosnia and Herzegovina</td><td>9667</td><td>3280815</td><td>0.2946523958223795</td></tr>",
                            "<tr><td>Czechia</td><td>30308</td><td>10708982</td><td>0.283014762747757</td></tr>",
                            "<tr><td>San Marino</td><td>90</td><td>33938</td><td>0.26518946313866465</td></tr>",
                            "<tr><td>North Macedonia</td><td>5486</td><td>2083380</td><td>0.2633221015849245</td></tr>",
                            "<tr><td>Bulgaria</td><td>18083</td><td>6948445</td><td>0.2602452779003072</td></tr>",
                            "<tr><td>Montenegro</td><td>1613</td><td>628062</td><td>0.2568217787415892</td></tr>",
                            "<tr><td>Brazil</td><td>521952</td><td>212559409</td><td>0.24555582011427216</td></tr>",
                            "<tr><td>Slovakia</td><td>12511</td><td>5459643</td><td>0.2291541772969405</td></tr>",
                            "</table>"
                        ]
                    }
                }
            ],
            "execution_count": 8
        },
        {
            "cell_type": "markdown",
            "source": [
                "**Contintents with the highest death count**"
            ],
            "metadata": {
                "azdata_cell_guid": "16546d22-d190-442e-99bc-8d1e7a14b4f4"
            }
        },
        {
            "cell_type": "code",
            "source": [
                "SELECT\n",
                "    continent,\n",
                "    MAX(total_deaths)AS TotalDeathCount\n",
                "FROM portfolio.dbo.CovidDeaths\n",
                "WHERE continent IS NOT NULL\n",
                "GROUP BY continent\n",
                "ORDER BY TotalDeathCount DESC"
            ],
            "metadata": {
                "azdata_cell_guid": "e1b893ec-7717-4c3a-a06b-d5af35a6ca32"
            },
            "outputs": [
                {
                    "output_type": "display_data",
                    "data": {
                        "text/html": "Warning: Null value is eliminated by an aggregate or other SET operation."
                    },
                    "metadata": {}
                },
                {
                    "output_type": "display_data",
                    "data": {
                        "text/html": "(6 rows affected)"
                    },
                    "metadata": {}
                },
                {
                    "output_type": "display_data",
                    "data": {
                        "text/html": "Total execution time: 00:00:01.673"
                    },
                    "metadata": {}
                },
                {
                    "output_type": "execute_result",
                    "metadata": {},
                    "execution_count": 9,
                    "data": {
                        "application/vnd.dataresource+json": {
                            "schema": {
                                "fields": [
                                    {
                                        "name": "continent"
                                    },
                                    {
                                        "name": "TotalDeathCount"
                                    }
                                ]
                            },
                            "data": [
                                {
                                    "0": "North America",
                                    "1": "605524"
                                },
                                {
                                    "0": "South America",
                                    "1": "521952"
                                },
                                {
                                    "0": "Asia",
                                    "1": "401050"
                                },
                                {
                                    "0": "Europe",
                                    "1": "134302"
                                },
                                {
                                    "0": "Africa",
                                    "1": "61332"
                                },
                                {
                                    "0": "Oceania",
                                    "1": "910"
                                }
                            ]
                        },
                        "text/html": [
                            "<table>",
                            "<tr><th>continent</th><th>TotalDeathCount</th></tr>",
                            "<tr><td>North America</td><td>605524</td></tr>",
                            "<tr><td>South America</td><td>521952</td></tr>",
                            "<tr><td>Asia</td><td>401050</td></tr>",
                            "<tr><td>Europe</td><td>134302</td></tr>",
                            "<tr><td>Africa</td><td>61332</td></tr>",
                            "<tr><td>Oceania</td><td>910</td></tr>",
                            "</table>"
                        ]
                    }
                }
            ],
            "execution_count": 9
        },
        {
            "cell_type": "markdown",
            "source": [
                "**Population that has recieved at least one Covid Vaccine**"
            ],
            "metadata": {
                "azdata_cell_guid": "ca2b7923-c411-40f1-b67d-c1df95f0134b"
            }
        },
        {
            "cell_type": "code",
            "source": [
                "SELECT TOP 10\n",
                "    death.location,\n",
                "    death.population,\n",
                "    MAX(vac.total_vaccinations) AS RollingPeopleVaccinated\n",
                "FROM portfolio.dbo.CovidDeaths death\n",
                "JOIN portfolio.dbo.CovidVaccinations vac\n",
                "ON death.location = vac.location\n",
                "WHERE death.continent IS NOT NULL\n",
                "GROUP BY death.location, death.population\n",
                "ORDER BY RollingPeopleVaccinated DESC"
            ],
            "metadata": {
                "azdata_cell_guid": "490ab847-06aa-4c07-ba5d-2e5cea18fd74"
            },
            "outputs": [
                {
                    "output_type": "display_data",
                    "data": {
                        "text/html": "Warning: Null value is eliminated by an aggregate or other SET operation."
                    },
                    "metadata": {}
                },
                {
                    "output_type": "display_data",
                    "data": {
                        "text/html": "(10 rows affected)"
                    },
                    "metadata": {}
                },
                {
                    "output_type": "display_data",
                    "data": {
                        "text/html": "Total execution time: 00:00:03.067"
                    },
                    "metadata": {}
                },
                {
                    "output_type": "execute_result",
                    "metadata": {},
                    "execution_count": 10,
                    "data": {
                        "application/vnd.dataresource+json": {
                            "schema": {
                                "fields": [
                                    {
                                        "name": "location"
                                    },
                                    {
                                        "name": "population"
                                    },
                                    {
                                        "name": "RollingPeopleVaccinated"
                                    }
                                ]
                            },
                            "data": [
                                {
                                    "0": "China",
                                    "1": "1439323774",
                                    "2": "1283175000"
                                },
                                {
                                    "0": "India",
                                    "1": "1380004385",
                                    "2": "335671794"
                                },
                                {
                                    "0": "United States",
                                    "1": "331002647",
                                    "2": "328809470"
                                },
                                {
                                    "0": "Brazil",
                                    "1": "212559409",
                                    "2": "102780096"
                                },
                                {
                                    "0": "United Kingdom",
                                    "1": "67886004",
                                    "2": "78254768"
                                },
                                {
                                    "0": "Germany",
                                    "1": "83783945",
                                    "2": "75781404"
                                },
                                {
                                    "0": "France",
                                    "1": "67564251",
                                    "2": "54483343"
                                },
                                {
                                    "0": "Italy",
                                    "1": "60461828",
                                    "2": "52682992"
                                },
                                {
                                    "0": "Turkey",
                                    "1": "84339067",
                                    "2": "52104718"
                                },
                                {
                                    "0": "Mexico",
                                    "1": "128932753",
                                    "2": "46451716"
                                }
                            ]
                        },
                        "text/html": [
                            "<table>",
                            "<tr><th>location</th><th>population</th><th>RollingPeopleVaccinated</th></tr>",
                            "<tr><td>China</td><td>1439323774</td><td>1283175000</td></tr>",
                            "<tr><td>India</td><td>1380004385</td><td>335671794</td></tr>",
                            "<tr><td>United States</td><td>331002647</td><td>328809470</td></tr>",
                            "<tr><td>Brazil</td><td>212559409</td><td>102780096</td></tr>",
                            "<tr><td>United Kingdom</td><td>67886004</td><td>78254768</td></tr>",
                            "<tr><td>Germany</td><td>83783945</td><td>75781404</td></tr>",
                            "<tr><td>France</td><td>67564251</td><td>54483343</td></tr>",
                            "<tr><td>Italy</td><td>60461828</td><td>52682992</td></tr>",
                            "<tr><td>Turkey</td><td>84339067</td><td>52104718</td></tr>",
                            "<tr><td>Mexico</td><td>128932753</td><td>46451716</td></tr>",
                            "</table>"
                        ]
                    }
                }
            ],
            "execution_count": 10
        },
        {
            "cell_type": "markdown",
            "source": [
                "**Percentage of Vaccinated People per Country**"
            ],
            "metadata": {
                "azdata_cell_guid": "4a590b80-4447-4891-b5e6-bcd7e7aa2eea"
            }
        },
        {
            "cell_type": "code",
            "source": [
                "WITH PopvsVac (Location, Population, RollingPeopleVaccinated)\n",
                "AS\n",
                "(\n",
                "SELECT\n",
                "    death.location,\n",
                "    death.population,\n",
                "    MAX(vac.total_vaccinations) AS RollingPeopleVaccinated\n",
                "FROM portfolio.dbo.CovidDeaths death\n",
                "JOIN portfolio.dbo.CovidVaccinations vac\n",
                "ON death.location = vac.location\n",
                "WHERE death.continent IS NOT NULL\n",
                "GROUP BY death.location, death.population\n",
                ")\n",
                "\n",
                "SELECT TOP 10\n",
                "    *, \n",
                "    (RollingPeopleVaccinated/Population)*100 AS PercentagePeopleVaccinated\n",
                "FROM PopvsVac\n",
                "ORDER BY RollingPeopleVaccinated DESC"
            ],
            "metadata": {
                "azdata_cell_guid": "1ea6a77c-c66f-44f5-bd34-2a526f347fe0"
            },
            "outputs": [
                {
                    "output_type": "display_data",
                    "data": {
                        "text/html": "Warning: Null value is eliminated by an aggregate or other SET operation."
                    },
                    "metadata": {}
                },
                {
                    "output_type": "display_data",
                    "data": {
                        "text/html": "(10 rows affected)"
                    },
                    "metadata": {}
                },
                {
                    "output_type": "display_data",
                    "data": {
                        "text/html": "Total execution time: 00:00:02.822"
                    },
                    "metadata": {}
                },
                {
                    "output_type": "execute_result",
                    "metadata": {},
                    "execution_count": 11,
                    "data": {
                        "application/vnd.dataresource+json": {
                            "schema": {
                                "fields": [
                                    {
                                        "name": "Location"
                                    },
                                    {
                                        "name": "Population"
                                    },
                                    {
                                        "name": "RollingPeopleVaccinated"
                                    },
                                    {
                                        "name": "PercentagePeopleVaccinated"
                                    }
                                ]
                            },
                            "data": [
                                {
                                    "0": "China",
                                    "1": "1439323774",
                                    "2": "1283175000",
                                    "3": "89.15124054638174"
                                },
                                {
                                    "0": "India",
                                    "1": "1380004385",
                                    "2": "335671794",
                                    "3": "24.32396575319578"
                                },
                                {
                                    "0": "United States",
                                    "1": "331002647",
                                    "2": "328809470",
                                    "3": "99.33741406001505"
                                },
                                {
                                    "0": "Brazil",
                                    "1": "212559409",
                                    "2": "102780096",
                                    "3": "48.353585702715236"
                                },
                                {
                                    "0": "United Kingdom",
                                    "1": "67886004",
                                    "2": "78254768",
                                    "3": "115.27378751001459"
                                },
                                {
                                    "0": "Germany",
                                    "1": "83783945",
                                    "2": "75781404",
                                    "3": "90.44859847551938"
                                },
                                {
                                    "0": "France",
                                    "1": "67564251",
                                    "2": "54483343",
                                    "3": "80.63930583645484"
                                },
                                {
                                    "0": "Italy",
                                    "1": "60461828",
                                    "2": "52682992",
                                    "3": "87.13430232377361"
                                },
                                {
                                    "0": "Turkey",
                                    "1": "84339067",
                                    "2": "52104718",
                                    "3": "61.78005028203596"
                                },
                                {
                                    "0": "Mexico",
                                    "1": "128932753",
                                    "2": "46451716",
                                    "3": "36.02786330018098"
                                }
                            ]
                        },
                        "text/html": [
                            "<table>",
                            "<tr><th>Location</th><th>Population</th><th>RollingPeopleVaccinated</th><th>PercentagePeopleVaccinated</th></tr>",
                            "<tr><td>China</td><td>1439323774</td><td>1283175000</td><td>89.15124054638174</td></tr>",
                            "<tr><td>India</td><td>1380004385</td><td>335671794</td><td>24.32396575319578</td></tr>",
                            "<tr><td>United States</td><td>331002647</td><td>328809470</td><td>99.33741406001505</td></tr>",
                            "<tr><td>Brazil</td><td>212559409</td><td>102780096</td><td>48.353585702715236</td></tr>",
                            "<tr><td>United Kingdom</td><td>67886004</td><td>78254768</td><td>115.27378751001459</td></tr>",
                            "<tr><td>Germany</td><td>83783945</td><td>75781404</td><td>90.44859847551938</td></tr>",
                            "<tr><td>France</td><td>67564251</td><td>54483343</td><td>80.63930583645484</td></tr>",
                            "<tr><td>Italy</td><td>60461828</td><td>52682992</td><td>87.13430232377361</td></tr>",
                            "<tr><td>Turkey</td><td>84339067</td><td>52104718</td><td>61.78005028203596</td></tr>",
                            "<tr><td>Mexico</td><td>128932753</td><td>46451716</td><td>36.02786330018098</td></tr>",
                            "</table>"
                        ]
                    }
                }
            ],
            "execution_count": 11
        },
        {
            "cell_type": "markdown",
            "source": [
                "**Global Vaccinations**"
            ],
            "metadata": {
                "azdata_cell_guid": "7e152880-8917-4cac-910e-7c14ddca7855"
            }
        },
        {
            "cell_type": "code",
            "source": [
                "WITH Global (World, GlobalPeopleVaccinated)\n",
                "AS\n",
                "(\n",
                "SELECT\n",
                "    SUM(DISTINCT(death.population)) AS World,\n",
                "    MAX(vac.total_vaccinations) OVER (PARTITION BY death.location) AS GlobalPeopleVaccinated\n",
                "FROM portfolio.dbo.CovidDeaths death\n",
                "JOIN portfolio.dbo.CovidVaccinations vac\n",
                "ON death.location = vac.location\n",
                "WHERE death.continent IS NULL\n",
                "GROUP BY death.population, death.[location], vac.total_vaccinations\n",
                ")\n",
                "\n",
                "SELECT \n",
                "    MAX(World) AS World,\n",
                "    MAX(GlobalPeopleVaccinated) AS GlobalPeopleVaccinated\n",
                "FROM Global"
            ],
            "metadata": {
                "azdata_cell_guid": "5c8b1c24-8542-43fa-b105-2d00b68ff6ec"
            },
            "outputs": [
                {
                    "output_type": "display_data",
                    "data": {
                        "text/html": "Warning: Null value is eliminated by an aggregate or other SET operation."
                    },
                    "metadata": {}
                },
                {
                    "output_type": "display_data",
                    "data": {
                        "text/html": "(1 row affected)"
                    },
                    "metadata": {}
                },
                {
                    "output_type": "display_data",
                    "data": {
                        "text/html": "Total execution time: 00:00:05.527"
                    },
                    "metadata": {}
                },
                {
                    "output_type": "execute_result",
                    "metadata": {},
                    "execution_count": 12,
                    "data": {
                        "application/vnd.dataresource+json": {
                            "schema": {
                                "fields": [
                                    {
                                        "name": "World"
                                    },
                                    {
                                        "name": "GlobalPeopleVaccinated"
                                    }
                                ]
                            },
                            "data": [
                                {
                                    "0": "7794798729",
                                    "1": "3162653153"
                                }
                            ]
                        },
                        "text/html": [
                            "<table>",
                            "<tr><th>World</th><th>GlobalPeopleVaccinated</th></tr>",
                            "<tr><td>7794798729</td><td>3162653153</td></tr>",
                            "</table>"
                        ]
                    }
                }
            ],
            "execution_count": 12
        },
        {
            "cell_type": "markdown",
            "source": [
                "**Confirm Global Vaccinations**"
            ],
            "metadata": {
                "azdata_cell_guid": "70fc4e1d-b69a-4dc6-aca0-24d4900443c8"
            }
        },
        {
            "cell_type": "code",
            "source": [
                "SELECT\n",
                "    death.population,\n",
                "    MAX(vac.total_vaccinations)\n",
                "FROM portfolio.dbo.CovidDeaths death\n",
                "JOIN portfolio.dbo.CovidVaccinations vac\n",
                "ON death.location = vac.location\n",
                "WHERE death.location = 'world'\n",
                "GROUP BY death.population"
            ],
            "metadata": {
                "azdata_cell_guid": "87e3e67d-36ab-46a0-94ce-5e583ab34ca4"
            },
            "outputs": [
                {
                    "output_type": "display_data",
                    "data": {
                        "text/html": "Warning: Null value is eliminated by an aggregate or other SET operation."
                    },
                    "metadata": {}
                },
                {
                    "output_type": "display_data",
                    "data": {
                        "text/html": "(1 row affected)"
                    },
                    "metadata": {}
                },
                {
                    "output_type": "display_data",
                    "data": {
                        "text/html": "Total execution time: 00:00:02.609"
                    },
                    "metadata": {}
                },
                {
                    "output_type": "execute_result",
                    "metadata": {},
                    "execution_count": 13,
                    "data": {
                        "application/vnd.dataresource+json": {
                            "schema": {
                                "fields": [
                                    {
                                        "name": "population"
                                    },
                                    {
                                        "name": "(No column name)"
                                    }
                                ]
                            },
                            "data": [
                                {
                                    "0": "7794798729",
                                    "1": "3162653153"
                                }
                            ]
                        },
                        "text/html": [
                            "<table>",
                            "<tr><th>population</th><th>(No column name)</th></tr>",
                            "<tr><td>7794798729</td><td>3162653153</td></tr>",
                            "</table>"
                        ]
                    }
                }
            ],
            "execution_count": 13
        }
    ]
}